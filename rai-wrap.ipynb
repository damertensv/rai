{
 "cells": [
  {
   "cell_type": "code",
   "execution_count": 1,
   "id": "e8885456",
   "metadata": {},
   "outputs": [],
   "source": [
    "import rai\n",
    "\n",
    "from torch.nn import Module\n",
    "from torch import Tensor, nn"
   ]
  },
  {
   "cell_type": "code",
   "execution_count": 2,
   "id": "79af0416",
   "metadata": {},
   "outputs": [],
   "source": [
    "class MLP(Module):\n",
    "    mlp: Module\n",
    "\n",
    "    def __init__(self, widths: list[int]):\n",
    "        super().__init__() # type: ignore\n",
    "        assert 2 < len(widths), f\"Need at least input and output dimensions; got {widths}\"\n",
    "        self.mlp = nn.Sequential()\n",
    "        for i in range(len(widths) - 1):\n",
    "            self.mlp.append(nn.Linear(widths[i], widths[i + 1]))\n",
    "            if i < len(widths) - 2:\n",
    "                self.mlp.append(nn.ReLU())\n",
    "        self.mlp.append(nn.Sigmoid())\n",
    "    \n",
    "    def forward(self, x: Tensor) -> Tensor:\n",
    "        return self.mlp(x)"
   ]
  },
  {
   "cell_type": "code",
   "execution_count": 3,
   "id": "870e5d86",
   "metadata": {},
   "outputs": [
    {
     "data": {
      "text/plain": [
       "MLP(\n",
       "  (mlp): Sequential(\n",
       "    (0): Linear(in_features=2, out_features=100, bias=True)\n",
       "    (1): ReLU()\n",
       "    (2): Linear(in_features=100, out_features=100, bias=True)\n",
       "    (3): ReLU()\n",
       "    (4): Linear(in_features=100, out_features=1, bias=True)\n",
       "    (5): Sigmoid()\n",
       "  )\n",
       ")"
      ]
     },
     "execution_count": 3,
     "metadata": {},
     "output_type": "execute_result"
    }
   ],
   "source": [
    "mlp = MLP([2, 100, 100, 1])\n",
    "mlp"
   ]
  },
  {
   "cell_type": "code",
   "execution_count": 4,
   "id": "182f8285",
   "metadata": {},
   "outputs": [
    {
     "data": {
      "text/plain": [
       "MLP(\n",
       "  (mlp): Sequential(\n",
       "    (0): RAI(\n",
       "      (_forward): Linear(in_features=2, out_features=100, bias=True)\n",
       "      (_loss_fn): MSELoss()\n",
       "    )\n",
       "    (1): ReLU()\n",
       "    (2): RAI(\n",
       "      (_forward): Linear(in_features=100, out_features=100, bias=True)\n",
       "      (_loss_fn): MSELoss()\n",
       "    )\n",
       "    (3): ReLU()\n",
       "    (4): RAI(\n",
       "      (_forward): Linear(in_features=100, out_features=1, bias=True)\n",
       "      (_loss_fn): MSELoss()\n",
       "    )\n",
       "    (5): Sigmoid()\n",
       "  )\n",
       ")"
      ]
     },
     "execution_count": 4,
     "metadata": {},
     "output_type": "execute_result"
    }
   ],
   "source": [
    "rai_mlp = rai.wrap(mlp)\n",
    "rai_mlp"
   ]
  }
 ],
 "metadata": {
  "kernelspec": {
   "display_name": "rai",
   "language": "python",
   "name": "python3"
  },
  "language_info": {
   "codemirror_mode": {
    "name": "ipython",
    "version": 3
   },
   "file_extension": ".py",
   "mimetype": "text/x-python",
   "name": "python",
   "nbconvert_exporter": "python",
   "pygments_lexer": "ipython3",
   "version": "3.13.3"
  }
 },
 "nbformat": 4,
 "nbformat_minor": 5
}
