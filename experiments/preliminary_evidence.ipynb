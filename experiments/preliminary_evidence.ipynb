{
 "cells": [
  {
   "cell_type": "code",
   "execution_count": 3,
   "id": "dc820c06",
   "metadata": {},
   "outputs": [],
   "source": [
    "import torch\n",
    "from torch import nn\n",
    "from tqdm import tqdm\n",
    "\n",
    "class MLP(nn.Module):\n",
    "  l: nn.ModuleList\n",
    "  f: nn.Module\n",
    "\n",
    "  def __init__(self, *sizes: int, f: nn.Module = nn.ReLU()):\n",
    "    super().__init__() # type: ignore\n",
    "    \n",
    "    if len(sizes) < 2:\n",
    "      raise ValueError(f\"`sizes` must contain at least 2 elements (input size and at least one output size), got {sizes} instead.\")\n",
    "    \n",
    "    # Store the activation\n",
    "    self.f = f\n",
    "    \n",
    "    # Create the linear layers\n",
    "    self.l = nn.ModuleList()\n",
    "    for i in range(len(sizes) - 1):\n",
    "      self.l.append(nn.Linear(sizes[i], sizes[i+1]))\n",
    "  \n",
    "  def forward(self, x: torch.Tensor) -> torch.Tensor:\n",
    "    for i, l in enumerate(self.l):\n",
    "      x = l(x)\n",
    "      if i < len(self.l) - 1:\n",
    "        x = self.f(x)\n",
    "    return x"
   ]
  },
  {
   "cell_type": "code",
   "execution_count": 4,
   "id": "c4dfd72c",
   "metadata": {},
   "outputs": [
    {
     "name": "stderr",
     "output_type": "stream",
     "text": [
      "L0.4321: 100%|██████████| 50/50 [00:01<00:00, 30.12it/s]\n"
     ]
    },
    {
     "name": "stdout",
     "output_type": "stream",
     "text": [
      "Test predictions shape: torch.Size([10, 2])\n",
      "tensor([[ 0.4419,  0.2484],\n",
      "        [ 0.2633, -0.2450],\n",
      "        [ 0.1177, -0.1921]])\n"
     ]
    }
   ],
   "source": [
    "# Create a simple MLP model\n",
    "input_size = 10\n",
    "hidden_size = 20\n",
    "output_size = 2\n",
    "model = MLP(input_size, hidden_size, output_size)\n",
    "\n",
    "# Define loss function and optimizer\n",
    "criterion = nn.CrossEntropyLoss()\n",
    "optimizer = torch.optim.Adam(model.parameters(), lr=0.001)\n",
    "\n",
    "# Generate some dummy data\n",
    "batch_size = 32\n",
    "num_samples = 100\n",
    "X = torch.randn(num_samples, input_size)\n",
    "y = torch.randint(0, output_size, (num_samples,))\n",
    "\n",
    "# Training loop\n",
    "num_epochs = 50\n",
    "for epoch in (bar := tqdm(range(num_epochs), desc=\"Training\")):\n",
    "    # Create random batches\n",
    "    indices = torch.randperm(num_samples)\n",
    "    for i in range(0, num_samples, batch_size):\n",
    "        # Get batch indices\n",
    "        idx = indices[i:i+batch_size]\n",
    "        \n",
    "        # Get batch data\n",
    "        X_batch = X[idx]\n",
    "        y_batch = y[idx]\n",
    "        \n",
    "        # Forward pass\n",
    "        outputs = model(X_batch)\n",
    "        loss = criterion(outputs, y_batch)\n",
    "        \n",
    "        # Backward and optimize\n",
    "        optimizer.zero_grad()\n",
    "        loss.backward()\n",
    "        optimizer.step()\n",
    "    \n",
    "    # Print epoch stats\n",
    "    with torch.no_grad():\n",
    "        bar.set_description(f\"L{loss.item():.4f}\")\n",
    "\n",
    "# Test the model\n",
    "with torch.no_grad():\n",
    "    test_data = torch.randn(10, input_size)\n",
    "    predictions = model(test_data)\n",
    "    print(\"Test predictions shape:\", predictions.shape)\n",
    "    print(predictions[:3])  # Show first 3 predictions"
   ]
  }
 ],
 "metadata": {
  "kernelspec": {
   "display_name": "dbp",
   "language": "python",
   "name": "python3"
  },
  "language_info": {
   "codemirror_mode": {
    "name": "ipython",
    "version": 3
   },
   "file_extension": ".py",
   "mimetype": "text/x-python",
   "name": "python",
   "nbconvert_exporter": "python",
   "pygments_lexer": "ipython3",
   "version": "3.13.3"
  }
 },
 "nbformat": 4,
 "nbformat_minor": 5
}
