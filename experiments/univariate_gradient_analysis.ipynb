{
 "cells": [
  {
   "cell_type": "code",
   "execution_count": 49,
   "id": "1aab22e4",
   "metadata": {},
   "outputs": [],
   "source": [
    "import sympy as sp\n",
    "from typing import Any\n",
    "from sympy import latex # type: ignore\n",
    "from IPython.display import display, Math, Markdown, Latex # type: ignor\n",
    "from jinja2 import Template\n",
    "\n",
    "input, output = sp.symbols(\"x y\") # type: ignore\n",
    "weight = sp.symbols(\"w_0 w_1\") # type: ignore\n",
    "bias = sp.symbols(\"c_0 c_1\") # type: ignore\n",
    "auxpar = sp.symbols(\"z\") # type: ignore\n",
    "\n",
    "def linear(w: Any, x: Any, c: Any) -> Any:\n",
    "    return w * x + c\n",
    "\n",
    "f = sp.Function(\"f\") # type: ignore\n",
    "l = sp.Function(r\"\\mathcal{L}\") # type: ignore\n",
    "\n",
    "template = Template(r\"\"\"\n",
    "Loss: ${{ loss }}$\n",
    "{% for param, expr in params.items() %}\n",
    "${{ param }}$'s grad: ${{ expr }}$\n",
    "{% endfor %}\n",
    "\"\"\")"
   ]
  },
  {
   "cell_type": "code",
   "execution_count": 50,
   "id": "590fbf4a",
   "metadata": {},
   "outputs": [
    {
     "data": {
      "text/latex": [
       "\n",
       "Loss: $\\mathcal{L}(y, f(c_1 + w_1*f(c_0 + w_0*x)))$\n",
       "\n",
       "$w_0$'s grad: $w_{1} x \\frac{\\partial}{\\partial f{\\left(c_{1} + w_{1} f{\\left(c_{0} + w_{0} x \\right)} \\right)}} \\mathcal{L}{\\left(y,f{\\left(c_{1} + w_{1} f{\\left(c_{0} + w_{0} x \\right)} \\right)} \\right)} \\left. \\frac{d}{d \\xi_{1}} f{\\left(\\xi_{1} \\right)} \\right|_{\\substack{ \\xi_{1}=c_{0} + w_{0} x }} \\left. \\frac{d}{d \\xi_{1}} f{\\left(\\xi_{1} \\right)} \\right|_{\\substack{ \\xi_{1}=c_{1} + w_{1} f{\\left(c_{0} + w_{0} x \\right)} }}$\n",
       "\n",
       "$w_1$'s grad: $f{\\left(c_{0} + w_{0} x \\right)} \\frac{\\partial}{\\partial f{\\left(c_{1} + w_{1} f{\\left(c_{0} + w_{0} x \\right)} \\right)}} \\mathcal{L}{\\left(y,f{\\left(c_{1} + w_{1} f{\\left(c_{0} + w_{0} x \\right)} \\right)} \\right)} \\left. \\frac{d}{d \\xi_{1}} f{\\left(\\xi_{1} \\right)} \\right|_{\\substack{ \\xi_{1}=c_{1} + w_{1} f{\\left(c_{0} + w_{0} x \\right)} }}$\n",
       "\n",
       "$c_0$'s grad: $w_{1} \\frac{\\partial}{\\partial f{\\left(c_{1} + w_{1} f{\\left(c_{0} + w_{0} x \\right)} \\right)}} \\mathcal{L}{\\left(y,f{\\left(c_{1} + w_{1} f{\\left(c_{0} + w_{0} x \\right)} \\right)} \\right)} \\left. \\frac{d}{d \\xi_{1}} f{\\left(\\xi_{1} \\right)} \\right|_{\\substack{ \\xi_{1}=c_{0} + w_{0} x }} \\left. \\frac{d}{d \\xi_{1}} f{\\left(\\xi_{1} \\right)} \\right|_{\\substack{ \\xi_{1}=c_{1} + w_{1} f{\\left(c_{0} + w_{0} x \\right)} }}$\n",
       "\n",
       "$c_1$'s grad: $\\frac{\\partial}{\\partial f{\\left(c_{1} + w_{1} f{\\left(c_{0} + w_{0} x \\right)} \\right)}} \\mathcal{L}{\\left(y,f{\\left(c_{1} + w_{1} f{\\left(c_{0} + w_{0} x \\right)} \\right)} \\right)} \\left. \\frac{d}{d \\xi_{1}} f{\\left(\\xi_{1} \\right)} \\right|_{\\substack{ \\xi_{1}=c_{1} + w_{1} f{\\left(c_{0} + w_{0} x \\right)} }}$\n"
      ],
      "text/plain": [
       "<IPython.core.display.Latex object>"
      ]
     },
     "metadata": {},
     "output_type": "display_data"
    }
   ],
   "source": [
    "hidden = f(linear(weight[0], input, bias[0])) # type: ignore\n",
    "pred = f(linear(weight[1], hidden, bias[1])) # type: ignore\n",
    "loss = l(output, pred) # type: ignore\n",
    "\n",
    "display(Latex(template.render(\n",
    "    loss=loss,\n",
    "    params={\n",
    "        weight[0]: latex(loss.diff(weight[0])), # type: ignore\n",
    "        weight[1]: latex(loss.diff(weight[1])), # tpye: ignore\n",
    "        bias[0]: latex(loss.diff(bias[0])), # tpye: ignore\n",
    "        bias[1]: latex(loss.diff(bias[1])), # tpye: ignore\n",
    "    }\n",
    ")))"
   ]
  },
  {
   "cell_type": "code",
   "execution_count": 51,
   "id": "bcc9c963",
   "metadata": {},
   "outputs": [
    {
     "data": {
      "text/latex": [
       "\n",
       "Loss: $\\mathcal{L}(y, f(c_1 + w_1*z)) + \\mathcal{L}(z, f(c_0 + w_0*x))$\n",
       "\n",
       "$w_0$'s grad: $x \\frac{\\partial}{\\partial f{\\left(c_{0} + w_{0} x \\right)}} \\mathcal{L}{\\left(z,f{\\left(c_{0} + w_{0} x \\right)} \\right)} \\left. \\frac{d}{d \\xi_{1}} f{\\left(\\xi_{1} \\right)} \\right|_{\\substack{ \\xi_{1}=c_{0} + w_{0} x }}$\n",
       "\n",
       "$w_1$'s grad: $z \\frac{\\partial}{\\partial f{\\left(c_{1} + w_{1} z \\right)}} \\mathcal{L}{\\left(y,f{\\left(c_{1} + w_{1} z \\right)} \\right)} \\left. \\frac{d}{d \\xi_{1}} f{\\left(\\xi_{1} \\right)} \\right|_{\\substack{ \\xi_{1}=c_{1} + w_{1} z }}$\n",
       "\n",
       "$c_0$'s grad: $\\frac{\\partial}{\\partial f{\\left(c_{0} + w_{0} x \\right)}} \\mathcal{L}{\\left(z,f{\\left(c_{0} + w_{0} x \\right)} \\right)} \\left. \\frac{d}{d \\xi_{1}} f{\\left(\\xi_{1} \\right)} \\right|_{\\substack{ \\xi_{1}=c_{0} + w_{0} x }}$\n",
       "\n",
       "$c_1$'s grad: $\\frac{\\partial}{\\partial f{\\left(c_{1} + w_{1} z \\right)}} \\mathcal{L}{\\left(y,f{\\left(c_{1} + w_{1} z \\right)} \\right)} \\left. \\frac{d}{d \\xi_{1}} f{\\left(\\xi_{1} \\right)} \\right|_{\\substack{ \\xi_{1}=c_{1} + w_{1} z }}$\n",
       "\n",
       "$z$'s grad: $w_{1} \\frac{\\partial}{\\partial f{\\left(c_{1} + w_{1} z \\right)}} \\mathcal{L}{\\left(y,f{\\left(c_{1} + w_{1} z \\right)} \\right)} \\left. \\frac{d}{d \\xi_{1}} f{\\left(\\xi_{1} \\right)} \\right|_{\\substack{ \\xi_{1}=c_{1} + w_{1} z }} + \\frac{\\partial}{\\partial z} \\mathcal{L}{\\left(z,f{\\left(c_{0} + w_{0} x \\right)} \\right)}$\n"
      ],
      "text/plain": [
       "<IPython.core.display.Latex object>"
      ]
     },
     "metadata": {},
     "output_type": "display_data"
    }
   ],
   "source": [
    "hidden = f(linear(weight[0], input, bias[0])) # type: ignore\n",
    "pred = f(linear(weight[1], auxpar, bias[1])) # type: ignore\n",
    "loss = l(output, pred) + l(auxpar, hidden) # type: ignore\n",
    "\n",
    "display(Latex(template.render(\n",
    "    loss=loss,\n",
    "    params={\n",
    "        weight[0]: latex(loss.diff(weight[0])), # type: ignore\n",
    "        weight[1]: latex(loss.diff(weight[1])), # tpye: ignore\n",
    "        bias[0]: latex(loss.diff(bias[0])), # tpye: ignore\n",
    "        bias[1]: latex(loss.diff(bias[1])), # tpye: ignore\n",
    "        auxpar: latex(loss.diff(auxpar)), # tpye: ignore\n",
    "    }\n",
    ")))"
   ]
  }
 ],
 "metadata": {
  "kernelspec": {
   "display_name": "dbp",
   "language": "python",
   "name": "python3"
  },
  "language_info": {
   "codemirror_mode": {
    "name": "ipython",
    "version": 3
   },
   "file_extension": ".py",
   "mimetype": "text/x-python",
   "name": "python",
   "nbconvert_exporter": "python",
   "pygments_lexer": "ipython3",
   "version": "3.13.2"
  }
 },
 "nbformat": 4,
 "nbformat_minor": 5
}
