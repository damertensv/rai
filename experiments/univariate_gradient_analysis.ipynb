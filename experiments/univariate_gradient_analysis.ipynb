{
 "cells": [
  {
   "cell_type": "code",
   "execution_count": 1,
   "id": "1aab22e4",
   "metadata": {},
   "outputs": [],
   "source": [
    "import sympy as sp\n",
    "from typing import Any\n",
    "from sympy import latex # type: ignore\n",
    "from IPython.display import display, Math, Markdown, Latex # type: ignor\n",
    "from jinja2 import Template\n",
    "\n",
    "input, output = sp.symbols(\"x y\") # type: ignore\n",
    "params = sp.symbols(r\"\\theta_0 \\theta_1\") # type: ignore\n",
    "auxpar = sp.symbols(\"z\") # type: ignore\n",
    "\n",
    "f = sp.Function(\"f\")\n",
    "l = sp.Function(\"l\")\n",
    "\n",
    "template = Template(r\"\"\"\n",
    "Loss: ${{ loss }}$\n",
    "{% for param, expr in params.items() %}\n",
    "${{ param }}$'s grad: ${{ expr }}$\n",
    "{% endfor %}\n",
    "\"\"\")"
   ]
  },
  {
   "cell_type": "code",
   "execution_count": 2,
   "id": "590fbf4a",
   "metadata": {},
   "outputs": [
    {
     "data": {
      "text/latex": [
       "\n",
       "Loss: $l(y, f(f(x, \\theta_0), \\theta_1))$\n",
       "\n",
       "$\\theta_0$'s grad: $\\frac{\\partial}{\\partial \\theta_{0}} f{\\left(x,\\theta_{0} \\right)} \\frac{\\partial}{\\partial f{\\left(x,\\theta_{0} \\right)}} f{\\left(f{\\left(x,\\theta_{0} \\right)},\\theta_{1} \\right)} \\frac{\\partial}{\\partial f{\\left(f{\\left(x,\\theta_{0} \\right)},\\theta_{1} \\right)}} l{\\left(y,f{\\left(f{\\left(x,\\theta_{0} \\right)},\\theta_{1} \\right)} \\right)}$\n",
       "\n",
       "$\\theta_1$'s grad: $\\frac{\\partial}{\\partial \\theta_{1}} f{\\left(f{\\left(x,\\theta_{0} \\right)},\\theta_{1} \\right)} \\frac{\\partial}{\\partial f{\\left(f{\\left(x,\\theta_{0} \\right)},\\theta_{1} \\right)}} l{\\left(y,f{\\left(f{\\left(x,\\theta_{0} \\right)},\\theta_{1} \\right)} \\right)}$\n"
      ],
      "text/plain": [
       "<IPython.core.display.Latex object>"
      ]
     },
     "metadata": {},
     "output_type": "display_data"
    }
   ],
   "source": [
    "hidden = f(input, params[0]) # type: ignore\n",
    "pred = f(hidden, params[1]) # type: ignore\n",
    "loss = l(output, pred) # type: ignore\n",
    "\n",
    "display(Latex(template.render(\n",
    "    loss=loss,\n",
    "    params={\n",
    "        params[0]: latex(loss.diff(params[0])), # type: ignore\n",
    "        params[1]: latex(loss.diff(params[1])) # tpye: ignore\n",
    "    }\n",
    ")))"
   ]
  },
  {
   "cell_type": "code",
   "execution_count": 3,
   "id": "bcc9c963",
   "metadata": {},
   "outputs": [
    {
     "data": {
      "text/latex": [
       "\n",
       "Loss: $l(y, f(z, \\theta_1)) + l(z, f(x, \\theta_0))$\n",
       "\n",
       "$\\theta_0$'s grad: $\\frac{\\partial}{\\partial \\theta_{0}} f{\\left(x,\\theta_{0} \\right)} \\frac{\\partial}{\\partial f{\\left(x,\\theta_{0} \\right)}} l{\\left(z,f{\\left(x,\\theta_{0} \\right)} \\right)}$\n",
       "\n",
       "$\\theta_1$'s grad: $\\frac{\\partial}{\\partial \\theta_{1}} f{\\left(z,\\theta_{1} \\right)} \\frac{\\partial}{\\partial f{\\left(z,\\theta_{1} \\right)}} l{\\left(y,f{\\left(z,\\theta_{1} \\right)} \\right)}$\n",
       "\n",
       "$z$'s grad: $\\frac{\\partial}{\\partial z} f{\\left(z,\\theta_{1} \\right)} \\frac{\\partial}{\\partial f{\\left(z,\\theta_{1} \\right)}} l{\\left(y,f{\\left(z,\\theta_{1} \\right)} \\right)} + \\frac{\\partial}{\\partial z} l{\\left(z,f{\\left(x,\\theta_{0} \\right)} \\right)}$\n"
      ],
      "text/plain": [
       "<IPython.core.display.Latex object>"
      ]
     },
     "metadata": {},
     "output_type": "display_data"
    }
   ],
   "source": [
    "hidden = f(input, params[0]) # type: ignore\n",
    "pred = f(auxpar, params[1]) # type: ignore\n",
    "loss = l(output, pred) + l(auxpar, hidden) # type: ignore\n",
    "\n",
    "display(Latex(template.render(\n",
    "    loss=loss,\n",
    "    params={\n",
    "        params[0]: latex(loss.diff(params[0])), # type: ignore\n",
    "        params[1]: latex(loss.diff(params[1])), # tpye: ignore\n",
    "        auxpar: latex(loss.diff(auxpar)), # tpye: ignore\n",
    "    }\n",
    ")))"
   ]
  },
  {
   "cell_type": "markdown",
   "id": "651df4ea",
   "metadata": {},
   "source": [
    "**TODO**\n",
    "- I have to compare the gradients of every parameter w.r.t. the loss for both cases: the standard case and the case with the auxiliary parameter $z$.\n",
    "- When we constrain $z = \\hat{z}$, then the gradients passing through become zero. Hence, to compare, I need to find a different constraint."
   ]
  }
 ],
 "metadata": {
  "kernelspec": {
   "display_name": "dbp",
   "language": "python",
   "name": "python3"
  },
  "language_info": {
   "codemirror_mode": {
    "name": "ipython",
    "version": 3
   },
   "file_extension": ".py",
   "mimetype": "text/x-python",
   "name": "python",
   "nbconvert_exporter": "python",
   "pygments_lexer": "ipython3",
   "version": "3.13.2"
  }
 },
 "nbformat": 4,
 "nbformat_minor": 5
}
