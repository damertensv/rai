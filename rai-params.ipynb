{
 "cells": [
  {
   "cell_type": "code",
   "execution_count": 87,
   "id": "76d77398",
   "metadata": {},
   "outputs": [],
   "source": [
    "from torch.nn import Module, Parameter, MSELoss, Linear, LazyLinear\n",
    "from torch import Tensor\n",
    "from torch import nn\n",
    "import torch as th\n",
    "from typing import Any, cast, Self\n",
    "from collections.abc import Callable, Mapping, MutableMapping\n",
    "from math import inf"
   ]
  },
  {
   "cell_type": "code",
   "execution_count": 88,
   "id": "2a0e6057",
   "metadata": {},
   "outputs": [],
   "source": [
    "def flat_to_params(func: Module) -> Callable[[Tensor], Mapping[str, Tensor]]:\n",
    "    shape_dict = {k: p.shape for k, p in func.state_dict().items()}\n",
    "    sizes_dict = {k: p.flatten().shape[0] for k, p in func.state_dict().items()}\n",
    "    def _map_flat_to_params(flat: Tensor) -> Mapping[str, Tensor]:\n",
    "        params: MutableMapping[str, Tensor] = {}\n",
    "        for key, size in sizes_dict.items():\n",
    "            prev = flat[:size]; flat = flat[size:]\n",
    "            params[key] = prev.reshape(shape_dict[key])\n",
    "        return params\n",
    "    return _map_flat_to_params"
   ]
  },
  {
   "cell_type": "code",
   "execution_count": 89,
   "id": "74c3383d",
   "metadata": {},
   "outputs": [],
   "source": [
    "class MLP(Module):\n",
    "    mlp: Module\n",
    "\n",
    "    def __init__(self, widths: list[int]):\n",
    "        super().__init__() # type: ignore\n",
    "        assert 2 < len(widths), f\"Need at least input and output dimensions; got {widths}\"\n",
    "        self.mlp = nn.Sequential()\n",
    "        for i in range(len(widths) - 1):\n",
    "            self.mlp.append(nn.Linear(widths[i], widths[i + 1]))\n",
    "            if i < len(widths) - 2:\n",
    "                self.mlp.append(nn.ReLU())\n",
    "        self.mlp.append(nn.Sigmoid())\n",
    "    \n",
    "    def forward(self, x: Tensor) -> Tensor:\n",
    "        return self.mlp(x)"
   ]
  },
  {
   "cell_type": "code",
   "execution_count": 90,
   "id": "66d55b03",
   "metadata": {},
   "outputs": [
    {
     "data": {
      "text/plain": [
       "MLP(\n",
       "  (mlp): Sequential(\n",
       "    (0): Linear(in_features=2, out_features=42, bias=True)\n",
       "    (1): ReLU()\n",
       "    (2): Linear(in_features=42, out_features=42, bias=True)\n",
       "    (3): ReLU()\n",
       "    (4): Linear(in_features=42, out_features=1, bias=True)\n",
       "    (5): Sigmoid()\n",
       "  )\n",
       ")"
      ]
     },
     "execution_count": 90,
     "metadata": {},
     "output_type": "execute_result"
    }
   ],
   "source": [
    "mlp = MLP([2, 42, 42, 1])\n",
    "mlp"
   ]
  },
  {
   "cell_type": "code",
   "execution_count": 91,
   "id": "0e3dd727",
   "metadata": {},
   "outputs": [
    {
     "name": "stdout",
     "output_type": "stream",
     "text": [
      "mlp.0.weight: torch.Size([42, 2])\n",
      "mlp.0.bias: torch.Size([42])\n",
      "mlp.2.weight: torch.Size([42, 42])\n",
      "mlp.2.bias: torch.Size([42])\n",
      "mlp.4.weight: torch.Size([1, 42])\n",
      "mlp.4.bias: torch.Size([1])\n"
     ]
    }
   ],
   "source": [
    "for key, p in mlp.state_dict().items():\n",
    "    print(f\"{key}: {p.shape}\")"
   ]
  },
  {
   "cell_type": "code",
   "execution_count": 92,
   "id": "fd88a7a3",
   "metadata": {},
   "outputs": [
    {
     "name": "stdout",
     "output_type": "stream",
     "text": [
      "mlp.0.weight: torch.Size([42, 2]) 0.0\n",
      "mlp.0.bias: torch.Size([42]) 0.0\n",
      "mlp.2.weight: torch.Size([42, 42]) 0.0\n",
      "mlp.2.bias: torch.Size([42]) 0.0\n",
      "mlp.4.weight: torch.Size([1, 42]) 0.0\n",
      "mlp.4.bias: torch.Size([1]) 0.0\n"
     ]
    }
   ],
   "source": [
    "state_dict = mlp.state_dict()\n",
    "flat_params = th.cat([v.flatten() for v in state_dict.values()])\n",
    "for key, p in flat_to_params(mlp)(flat_params).items():\n",
    "    print(f\"{key}: {p.shape} {(p - state_dict[key]).mean()}\")"
   ]
  },
  {
   "cell_type": "code",
   "execution_count": 94,
   "id": "5aa46926",
   "metadata": {},
   "outputs": [
    {
     "data": {
      "text/plain": [
       "<All keys matched successfully>"
      ]
     },
     "execution_count": 94,
     "metadata": {},
     "output_type": "execute_result"
    }
   ],
   "source": [
    "mlp.load_state_dict(flat_to_params(mlp)(flat_params + 12.))"
   ]
  }
 ],
 "metadata": {
  "kernelspec": {
   "display_name": "rai",
   "language": "python",
   "name": "python3"
  },
  "language_info": {
   "codemirror_mode": {
    "name": "ipython",
    "version": 3
   },
   "file_extension": ".py",
   "mimetype": "text/x-python",
   "name": "python",
   "nbconvert_exporter": "python",
   "pygments_lexer": "ipython3",
   "version": "3.13.3"
  }
 },
 "nbformat": 4,
 "nbformat_minor": 5
}
